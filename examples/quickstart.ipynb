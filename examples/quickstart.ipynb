{
 "cells": [
  {
   "cell_type": "markdown",
   "metadata": {},
   "source": [
    "# Quickstart"
   ]
  },
  {
   "cell_type": "markdown",
   "metadata": {},
   "source": [
    "Here we will analyse a dataset from the text domain (dexter) for hubness,\n",
    "we will reduce hubness, and compare nearest neighbor classification\n",
    "with or without hubness reduction."
   ]
  },
  {
   "cell_type": "code",
   "execution_count": 3,
   "metadata": {},
   "outputs": [],
   "source": [
    "%load_ext autoreload\n",
    "%autoreload 2"
   ]
  },
  {
   "cell_type": "code",
   "execution_count": 8,
   "metadata": {},
   "outputs": [
    {
     "data": {
      "text/plain": [
       "((300, 20000), (300,))"
      ]
     },
     "execution_count": 8,
     "metadata": {},
     "output_type": "execute_result"
    }
   ],
   "source": [
    "# load the example dataset 'dexter'\n",
    "from hubness.data import load_dexter\n",
    "X, y = load_dexter()\n",
    "\n",
    "# dexter is embedded in a high-dimensional space,\n",
    "# and could, thus, be prone to hubness\n",
    "X.shape, y.shape"
   ]
  },
  {
   "cell_type": "code",
   "execution_count": 21,
   "metadata": {},
   "outputs": [
    {
     "data": {
      "text/plain": [
       "4.222131665788378"
      ]
     },
     "execution_count": 21,
     "metadata": {},
     "output_type": "execute_result"
    }
   ],
   "source": [
    "# assess the actual degree of hubness in dexter\n",
    "from hubness import Hubness\n",
    "hub = Hubness(k=5, metric='cosine')\n",
    "hub.fit_transform(X)\n",
    "hub.k_skewness_"
   ]
  },
  {
   "cell_type": "code",
   "execution_count": 22,
   "metadata": {},
   "outputs": [
    {
     "name": "stdout",
     "output_type": "stream",
     "text": [
      "Robin hood index: 0.543\n",
      "Antihub occurrence: 0.267\n",
      "Hub occurrence: 0.634\n"
     ]
    }
   ],
   "source": [
    "# additional hubness indices are available, for example:\n",
    "print(f'Robin hood index: {hub.robinhood_index_:.3f}')\n",
    "print(f'Antihub occurrence: {hub.antihub_occurrence_:.3f}')\n",
    "print(f'Hub occurrence: {hub.hub_occurrence_:.3f}')"
   ]
  },
  {
   "cell_type": "code",
   "execution_count": 28,
   "metadata": {},
   "outputs": [
    {
     "name": "stdout",
     "output_type": "stream",
     "text": [
      "Accuracy (vanilla kNN): 0.793\n",
      "Accuracy (kNN with hubness reduction): 0.893\n"
     ]
    }
   ],
   "source": [
    "# There is considerable hubness in dexter.\n",
    "# Let's see, whether hubness reduction can improve\n",
    "# kNN classification performance \n",
    "from sklearn.model_selection import cross_val_score\n",
    "from hubness.neighbors import KNeighborsClassifier\n",
    "\n",
    "# vanilla kNN\n",
    "knn_standard = KNeighborsClassifier(n_neighbors=5,\n",
    "                                    metric='cosine')\n",
    "acc_standard = cross_val_score(knn_standard, X, y, cv=5)\n",
    "\n",
    "# kNN with hubness reduction (mutual proximity)\n",
    "knn_mp = KNeighborsClassifier(n_neighbors=5,\n",
    "                              metric='cosine',\n",
    "                              hubness='mutual_proximity')\n",
    "acc_mp = cross_val_score(knn_mp, X, y, cv=5)\n",
    "\n",
    "print(f'Accuracy (vanilla kNN): {acc_standard.mean():.3f}')\n",
    "print(f'Accuracy (kNN with hubness reduction): {acc_mp.mean():.3f}')"
   ]
  },
  {
   "cell_type": "code",
   "execution_count": 37,
   "metadata": {},
   "outputs": [
    {
     "name": "stdout",
     "output_type": "stream",
     "text": [
      "Skewness: 0.933 (reduction of 3.289)\n",
      "Robin hood: 0.288 (reduction of 0.255)\n"
     ]
    }
   ],
   "source": [
    "# Accuracy was considerably improved by mutual proximity.\n",
    "# Did it actually reduce hubness?\n",
    "knn_mp.fit(X, y)\n",
    "neighbor_graph = knn_mp.kneighbors_graph()\n",
    "\n",
    "hub_mp = Hubness(k=5, metric='precomputed').estimate(neighbor_graph)\n",
    "print(f'Skewness: {hub_mp.k_skewness_:.3f} (reduction of {hub.k_skewness_ - hub_mp.k_skewness_:.3f})')\n",
    "print(f'Robin hood: {hub_mp.robinhood_index_:.3f} (reduction of {hub.robinhood_index_ - hub_mp.robinhood_index_:.3f})')"
   ]
  },
  {
   "cell_type": "code",
   "execution_count": null,
   "metadata": {},
   "outputs": [],
   "source": [
    "# The neighbor graph can also be created directly,\n",
    "# with or without hubness reduction\n",
    "from hubness.neighbors import kneighbors_graph\n",
    "neighbor_graph = kneighbors_graph(X, n_neighbors=5, hubness='mutual_proximity')\n"
   ]
  }
 ],
 "metadata": {
  "kernelspec": {
   "display_name": "Python 3.7 (hubness)",
   "language": "python",
   "name": "hubness"
  },
  "language_info": {
   "codemirror_mode": {
    "name": "ipython",
    "version": 3
   },
   "file_extension": ".py",
   "mimetype": "text/x-python",
   "name": "python",
   "nbconvert_exporter": "python",
   "pygments_lexer": "ipython3",
   "version": "3.7.3"
  }
 },
 "nbformat": 4,
 "nbformat_minor": 4
}
